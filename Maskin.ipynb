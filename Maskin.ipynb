{
 "cells": [
  {
   "cell_type": "code",
   "execution_count": 34,
   "id": "f154d995-cb8f-4a21-af30-e441e6043d58",
   "metadata": {},
   "outputs": [],
   "source": [
    "from sklearn.ensemble import RandomForestClassifier\n",
    "import pandas as pd\n",
    "import matplotlib.pyplot as plt\n",
    "from sklearn.metrics import fbeta_score\n",
    "from sklearn.ensemble import RandomForestClassifier\n",
    "import seaborn as sns\n",
    "from sklearn.model_selection import train_test_split"
   ]
  },
  {
   "cell_type": "code",
   "execution_count": 22,
   "id": "8572f133-9bbb-40e3-8cc4-1a8cbc01957e",
   "metadata": {},
   "outputs": [
    {
     "data": {
      "text/html": [
       "<div>\n",
       "<style scoped>\n",
       "    .dataframe tbody tr th:only-of-type {\n",
       "        vertical-align: middle;\n",
       "    }\n",
       "\n",
       "    .dataframe tbody tr th {\n",
       "        vertical-align: top;\n",
       "    }\n",
       "\n",
       "    .dataframe thead th {\n",
       "        text-align: right;\n",
       "    }\n",
       "</style>\n",
       "<table border=\"1\" class=\"dataframe\">\n",
       "  <thead>\n",
       "    <tr style=\"text-align: right;\">\n",
       "      <th></th>\n",
       "      <th>State</th>\n",
       "      <th>Account length</th>\n",
       "      <th>Area code</th>\n",
       "      <th>International plan</th>\n",
       "      <th>Voice mail plan</th>\n",
       "      <th>Number vmail messages</th>\n",
       "      <th>Total day minutes</th>\n",
       "      <th>Total day calls</th>\n",
       "      <th>Total day charge</th>\n",
       "      <th>Total eve minutes</th>\n",
       "      <th>Total eve calls</th>\n",
       "      <th>Total eve charge</th>\n",
       "      <th>Total night minutes</th>\n",
       "      <th>Total night calls</th>\n",
       "      <th>Total night charge</th>\n",
       "      <th>Total intl minutes</th>\n",
       "      <th>Total intl calls</th>\n",
       "      <th>Total intl charge</th>\n",
       "      <th>Customer service calls</th>\n",
       "      <th>Churn</th>\n",
       "    </tr>\n",
       "  </thead>\n",
       "  <tbody>\n",
       "    <tr>\n",
       "      <th>0</th>\n",
       "      <td>KS</td>\n",
       "      <td>128</td>\n",
       "      <td>415</td>\n",
       "      <td>No</td>\n",
       "      <td>Yes</td>\n",
       "      <td>25</td>\n",
       "      <td>265.1</td>\n",
       "      <td>110</td>\n",
       "      <td>45.07</td>\n",
       "      <td>197.4</td>\n",
       "      <td>99</td>\n",
       "      <td>16.78</td>\n",
       "      <td>244.7</td>\n",
       "      <td>91</td>\n",
       "      <td>11.01</td>\n",
       "      <td>10.0</td>\n",
       "      <td>3</td>\n",
       "      <td>2.7</td>\n",
       "      <td>1</td>\n",
       "      <td>False</td>\n",
       "    </tr>\n",
       "  </tbody>\n",
       "</table>\n",
       "</div>"
      ],
      "text/plain": [
       "  State  Account length  Area code International plan Voice mail plan  \\\n",
       "0    KS             128        415                 No             Yes   \n",
       "\n",
       "   Number vmail messages  Total day minutes  Total day calls  \\\n",
       "0                     25              265.1              110   \n",
       "\n",
       "   Total day charge  Total eve minutes  Total eve calls  Total eve charge  \\\n",
       "0             45.07              197.4               99             16.78   \n",
       "\n",
       "   Total night minutes  Total night calls  Total night charge  \\\n",
       "0                244.7                 91               11.01   \n",
       "\n",
       "   Total intl minutes  Total intl calls  Total intl charge  \\\n",
       "0                10.0                 3                2.7   \n",
       "\n",
       "   Customer service calls  Churn  \n",
       "0                       1  False  "
      ]
     },
     "execution_count": 22,
     "metadata": {},
     "output_type": "execute_result"
    }
   ],
   "source": [
    "train = pd.read_csv(\"c:\\\\1\\\\train.csv\", delimiter=',')\n",
    "test = pd.read_csv(\"c:\\\\1\\\\test.csv\", delimiter=',')\n",
    "train.head(1)"
   ]
  },
  {
   "cell_type": "code",
   "execution_count": 21,
   "id": "6cf2cb1b-bfaa-41c1-89b0-0cb7aa3e3508",
   "metadata": {},
   "outputs": [
    {
     "data": {
      "text/plain": [
       "<AxesSubplot:>"
      ]
     },
     "execution_count": 21,
     "metadata": {},
     "output_type": "execute_result"
    },
    {
     "data": {
      "image/png": "[encoded data removed]",
      "text/plain": [
       "<Figure size 432x288 with 2 Axes>"
      ]
     },
     "metadata": {
      "needs_background": "light"
     },
     "output_type": "display_data"
    }
   ],
   "source": [
    "sns.heatmap(test.corr())"
   ]
  },
  {
   "cell_type": "code",
   "execution_count": 23,
   "id": "650474bf-277d-4830-82de-36093d5e9e5d",
   "metadata": {},
   "outputs": [],
   "source": [
    "train = train.drop(['State','Total day charge','Total eve charge','Total night charge','Total intl charge'], axis = 1)\n",
    "test = test.drop(['State','Total day charge','Total eve charge','Total night charge','Total intl charge'], axis = 1)"
   ]
  },
  {
   "cell_type": "code",
   "execution_count": 24,
   "id": "fb53af66-8dd0-4017-869e-709f03fe7ef0",
   "metadata": {},
   "outputs": [
    {
     "data": {
      "text/plain": [
       "<AxesSubplot:>"
      ]
     },
     "execution_count": 24,
     "metadata": {},
     "output_type": "execute_result"
    },
    {
     "data": {
      "image/png": "[encoded data removed]",
      "text/plain": [
       "<Figure size 432x288 with 2 Axes>"
      ]
     },
     "metadata": {
      "needs_background": "light"
     },
     "output_type": "display_data"
    }
   ],
   "source": [
    "sns.heatmap(test.corr())"
   ]
  },
  {
   "cell_type": "code",
   "execution_count": 27,
   "id": "96025b70-7d1c-4464-aead-82f0cbc73cb3",
   "metadata": {},
   "outputs": [
    {
     "name": "stdout",
     "output_type": "stream",
     "text": [
      "<class 'pandas.core.frame.DataFrame'>\n",
      "RangeIndex: 667 entries, 0 to 666\n",
      "Data columns (total 14 columns):\n",
      " #   Column                  Non-Null Count  Dtype  \n",
      "---  ------                  --------------  -----  \n",
      " 0   Account length          667 non-null    int64  \n",
      " 1   Area code               667 non-null    int64  \n",
      " 2   International plan      667 non-null    object \n",
      " 3   Voice mail plan         667 non-null    object \n",
      " 4   Number vmail messages   667 non-null    int64  \n",
      " 5   Total day minutes       667 non-null    float64\n",
      " 6   Total day calls         667 non-null    int64  \n",
      " 7   Total eve minutes       667 non-null    float64\n",
      " 8   Total eve calls         667 non-null    int64  \n",
      " 9   Total night minutes     667 non-null    float64\n",
      " 10  Total night calls       667 non-null    int64  \n",
      " 11  Total intl minutes      667 non-null    float64\n",
      " 12  Total intl calls        667 non-null    int64  \n",
      " 13  Customer service calls  667 non-null    int64  \n",
      "dtypes: float64(4), int64(8), object(2)\n",
      "memory usage: 73.1+ KB\n",
      "<class 'pandas.core.frame.DataFrame'>\n",
      "RangeIndex: 2666 entries, 0 to 2665\n",
      "Data columns (total 15 columns):\n",
      " #   Column                  Non-Null Count  Dtype  \n",
      "---  ------                  --------------  -----  \n",
      " 0   Account length          2666 non-null   int64  \n",
      " 1   Area code               2666 non-null   int64  \n",
      " 2   International plan      2666 non-null   object \n",
      " 3   Voice mail plan         2666 non-null   object \n",
      " 4   Number vmail messages   2666 non-null   int64  \n",
      " 5   Total day minutes       2666 non-null   float64\n",
      " 6   Total day calls         2666 non-null   int64  \n",
      " 7   Total eve minutes       2666 non-null   float64\n",
      " 8   Total eve calls         2666 non-null   int64  \n",
      " 9   Total night minutes     2666 non-null   float64\n",
      " 10  Total night calls       2666 non-null   int64  \n",
      " 11  Total intl minutes      2666 non-null   float64\n",
      " 12  Total intl calls        2666 non-null   int64  \n",
      " 13  Customer service calls  2666 non-null   int64  \n",
      " 14  Churn                   2666 non-null   bool   \n",
      "dtypes: bool(1), float64(4), int64(8), object(2)\n",
      "memory usage: 294.3+ KB\n"
     ]
    }
   ],
   "source": [
    "test.info()\n",
    "train.info()"
   ]
  },
  {
   "cell_type": "code",
   "execution_count": 30,
   "id": "8f6fbef6-8177-4be6-8f1d-6bdd9f514644",
   "metadata": {},
   "outputs": [
    {
     "data": {
      "text/plain": [
       "False    2278\n",
       "True      388\n",
       "Name: Churn, dtype: int64"
      ]
     },
     "execution_count": 30,
     "metadata": {},
     "output_type": "execute_result"
    }
   ],
   "source": [
    "train['Churn'].value_counts() # Посмотрим на баланс классов"
   ]
  },
  {
   "cell_type": "code",
   "execution_count": 31,
   "id": "be1319a1-6ddd-4ac5-90a7-52f5b72e4aff",
   "metadata": {},
   "outputs": [],
   "source": [
    "train['International plan'] = train['International plan'].replace({\"Yes\":1,\"No\":0}).astype('int64')\n",
    "train['Voice mail plan'] = train['Voice mail plan'].replace({\"Yes\":1,\"No\":0}).astype('int64')\n",
    "test['International plan'] = test['International plan'].replace({\"Yes\":1,\"No\":0}).astype('int64')\n",
    "test['Voice mail plan'] = test['Voice mail plan'].replace({\"Yes\":1,\"No\":0}).astype('int64')"
   ]
  },
  {
   "cell_type": "code",
   "execution_count": 35,
   "id": "70456227-c124-47b5-b527-8b513bfd11c3",
   "metadata": {},
   "outputs": [],
   "source": [
    "X_train, X_test, y_train, y_test = train_test_split(train.drop(['Churn'],axis=1),\n",
    "                                                    train['Churn'], test_size=0.2, \n",
    "                                                    random_state=42)"
   ]
  },
  {
   "cell_type": "code",
   "execution_count": 73,
   "id": "fff8d708-80b6-41c6-a37c-ef4172d9c067",
   "metadata": {},
   "outputs": [
    {
     "data": {
      "text/plain": [
       "RandomForestClassifier(max_depth=5)"
      ]
     },
     "execution_count": 73,
     "metadata": {},
     "output_type": "execute_result"
    }
   ],
   "source": [
    "# Инициализируем модель состоящую из 1000 решающих деревьев\n",
    "rf = RandomForestClassifier(n_estimators=100, max_depth=)\n",
    "\n",
    "# Обучим эту модель\n",
    "rf.fit(X_train, y_train)\n",
    "y_pred = rf.predict(X_test)\n",
    "fbeta_score(y_test, y_pred, beta = 2)"
   ]
  },
  {
   "cell_type": "code",
   "execution_count": 79,
   "id": "82f8b11d-e9e5-41a3-ab45-b6d0cfc4b2b8",
   "metadata": {},
   "outputs": [
    {
     "name": "stdout",
     "output_type": "stream",
     "text": [
      "Fitting 3 folds for each of 500 candidates, totalling 1500 fits\n"
     ]
    }
   ],
   "source": [
    "from sklearn.model_selection import RandomizedSearchCV\n",
    "from sklearn.model_selection import GridSearchCV\n",
    "\n",
    "forest = RandomForestClassifier(random_state = 1)\n",
    "n_estimators = [100, 300, 500, 800, 1200]\n",
    "max_depth = [5, 8, 15, 25, 30]\n",
    "min_samples_split = [2, 5, 10, 15, 100]\n",
    "min_samples_leaf = [1, 2, 5, 10] \n",
    "\n",
    "hyperF = dict(n_estimators = n_estimators, max_depth = max_depth,  \n",
    "              min_samples_split = min_samples_split, \n",
    "             min_samples_leaf = min_samples_leaf)\n",
    "\n",
    "gridF = GridSearchCV(forest, hyperF, cv = 3, verbose = 1, \n",
    "                      n_jobs = -1)\n",
    "bestF = gridF.fit(X_train, y_train)"
   ]
  },
  {
   "cell_type": "code",
   "execution_count": 80,
   "id": "dbe59904-89f9-4056-92cf-7d65157efec9",
   "metadata": {},
   "outputs": [
    {
     "data": {
      "text/plain": [
       "{'max_depth': 25,\n",
       " 'min_samples_leaf': 1,\n",
       " 'min_samples_split': 5,\n",
       " 'n_estimators': 500}"
      ]
     },
     "execution_count": 80,
     "metadata": {},
     "output_type": "execute_result"
    }
   ],
   "source": [
    "bestF.best_params_"
   ]
  },
  {
   "cell_type": "code",
   "execution_count": 81,
   "id": "fab9571e-adb7-4eec-955e-1785fc07a5d7",
   "metadata": {},
   "outputs": [
    {
     "data": {
      "text/plain": [
       "0.6456043956043955"
      ]
     },
     "execution_count": 81,
     "metadata": {},
     "output_type": "execute_result"
    }
   ],
   "source": [
    "y_pred = bestF.predict(X_test)\n",
    "fbeta_score(y_test, y_pred, beta = 2)"
   ]
  },
  {
   "cell_type": "code",
   "execution_count": null,
   "id": "51d22a35-ff92-4db6-9edc-97654ae36958",
   "metadata": {},
   "outputs": [],
   "source": []
  },
  {
   "cell_type": "code",
   "execution_count": 83,
   "id": "2a0d603a-66e5-4c02-aeaa-93fb3994fa1e",
   "metadata": {},
   "outputs": [
    {
     "data": {
      "text/plain": [
       "{'max_depth': 15, 'n_estimators': 1200}"
      ]
     },
     "execution_count": 83,
     "metadata": {},
     "output_type": "execute_result"
    }
   ],
   "source": [
    "forest = RandomForestClassifier()\n",
    "parametrs = {'n_estimators':[100, 300, 500, 800, 1200],'max_depth':[5, 8, 15, 25, 30]}\n",
    "gr = GridSearchCV(forest, parametrs ,cv = 5)\n",
    "gr.fit(X_train, y_train)\n",
    "gr.best_params_"
   ]
  },
  {
   "cell_type": "code",
   "execution_count": 84,
   "id": "d289315e-0789-427f-9a48-504338678cef",
   "metadata": {},
   "outputs": [
    {
     "data": {
      "text/plain": [
       "0.6456043956043955"
      ]
     },
     "execution_count": 84,
     "metadata": {},
     "output_type": "execute_result"
    }
   ],
   "source": [
    "y_pred = gr.predict(X_test)\n",
    "fbeta_score(y_test, y_pred, beta = 2)"
   ]
  },
  {
   "cell_type": "code",
   "execution_count": 238,
   "id": "e2d2933f-f4fa-464d-831e-ecfda35012b4",
   "metadata": {},
   "outputs": [
    {
     "name": "stderr",
     "output_type": "stream",
     "text": [
      "c:\\users\\user\\appdata\\local\\programs\\python\\python39\\lib\\site-packages\\xgboost\\sklearn.py:1224: UserWarning: The use of label encoder in XGBClassifier is deprecated and will be removed in a future release. To remove this warning, do the following: 1) Pass option use_label_encoder=False when constructing XGBClassifier object; and 2) Encode your labels (y) as integers starting with 0, i.e. 0, 1, 2, ..., [num_class - 1].\n",
      "  warnings.warn(label_encoder_deprecation_msg, UserWarning)\n"
     ]
    },
    {
     "data": {
      "text/plain": [
       "0.8355091383812009"
      ]
     },
     "execution_count": 238,
     "metadata": {},
     "output_type": "execute_result"
    }
   ],
   "source": [
    "from xgboost import XGBClassifier\n",
    "\n",
    "#xgb = XGBClassifier(n_estimators=1000,max_depth=10,min_child_weight=10,gamma=0,subsample=0.8,  \n",
    " #                        colsample_bytree=0.8,objective= 'binary:logistic',nthread=4,scale_pos_weight=1,seed=27)  \n",
    " \n",
    "\n",
    "xgb = XGBClassifier(n_estimators=1000,max_depth=7,min_child_weight=1,gamma=1,scale_pos_weight=3)\n",
    "#0.7783641160949869\n",
    "#0.8355091383812009\n",
    "# Обучим эту модель\n",
    "xgb.fit(X_train, y_train)\n",
    "y_pred = xgb.predict(X_test)\n",
    "fbeta_score(y_test, y_pred, beta = 2)"
   ]
  },
  {
   "cell_type": "code",
   "execution_count": 239,
   "id": "096316ec-6129-49b7-a04b-a8d2ee1aaa48",
   "metadata": {},
   "outputs": [],
   "source": [
    "submit = pd.read_csv('c:\\\\1\\\\sample_submission.csv')"
   ]
  },
  {
   "cell_type": "code",
   "execution_count": 240,
   "id": "76541cd8-0986-4e37-87dc-c6a1447ecc5c",
   "metadata": {},
   "outputs": [],
   "source": [
    "submit['Churn'] = xgb.predict(test)"
   ]
  },
  {
   "cell_type": "code",
   "execution_count": null,
   "id": "c2489884-7c19-4ac8-ba2d-2533b283c55a",
   "metadata": {},
   "outputs": [],
   "source": []
  },
  {
   "cell_type": "code",
   "execution_count": 242,
   "id": "6045ac6b-b1fc-437a-b1a2-0ed7b942140e",
   "metadata": {},
   "outputs": [],
   "source": [
    "submit.to_csv('c:\\\\1\\\\submit_xgb.csv',index_label = False,index = False)"
   ]
  },
  {
   "cell_type": "code",
   "execution_count": null,
   "id": "21cc45ca-2d75-4490-bb2b-6403bd79e8be",
   "metadata": {},
   "outputs": [],
   "source": []
  },
  {
   "cell_type": "code",
   "execution_count": null,
   "id": "a5463c57-8de2-415e-8f81-de1ced2eddc6",
   "metadata": {},
   "outputs": [],
   "source": []
  },
  {
   "cell_type": "code",
   "execution_count": null,
   "id": "c550fcd8-1cf1-4e53-a9e7-0a1938fa53c6",
   "metadata": {},
   "outputs": [],
   "source": []
  }
 ],
 "metadata": {
  "kernelspec": {
   "display_name": "Python 3",
   "language": "python",
   "name": "python3"
  },
  "language_info": {
   "codemirror_mode": {
    "name": "ipython",
    "version": 3
   },
   "file_extension": ".py",
   "mimetype": "text/x-python",
   "name": "python",
   "nbconvert_exporter": "python",
   "pygments_lexer": "ipython3",
   "version": "3.9.5"
  }
 },
 "nbformat": 4,
 "nbformat_minor": 5
}
